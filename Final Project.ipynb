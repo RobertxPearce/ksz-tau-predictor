{
 "cells": [
  {
   "metadata": {},
   "cell_type": "markdown",
   "source": [
    "### Imports\n",
    "- numpy For scientific computing\n",
    "- matplotlib: For visualizing data\n",
    "- h5py: Pythonic interface to the HDF5 binary data format"
   ],
   "id": "5692fa6f9eb8ce8a"
  },
  {
   "cell_type": "code",
   "id": "initial_id",
   "metadata": {
    "collapsed": true,
    "ExecuteTime": {
     "end_time": "2025-03-10T21:48:40.737232Z",
     "start_time": "2025-03-10T21:48:40.733263Z"
    }
   },
   "source": [
    "%matplotlib inline\n",
    "import numpy as np\n",
    "import matplotlib.pyplot as plt\n",
    "import h5py"
   ],
   "outputs": [],
   "execution_count": 96
  },
  {
   "metadata": {},
   "cell_type": "markdown",
   "source": "### Helper Functions to Aid in Data Analysis",
   "id": "c1c54f2b7bce50ae"
  },
  {
   "metadata": {
    "ExecuteTime": {
     "end_time": "2025-03-10T21:48:40.746060Z",
     "start_time": "2025-03-10T21:48:40.741474Z"
    }
   },
   "cell_type": "code",
   "source": [
    "def mean(data):\n",
    "    count = 0                       # Track sample size\n",
    "    summation = 0                   # Keep a running sum\n",
    "    for num in data:                # Loop through data set\n",
    "        summation += data[count]    # Sum the data values\n",
    "        count += 1                  # Increment count\n",
    "    return summation / count        # Return the mean\n",
    "\n",
    "def median(data):\n",
    "    count = len(data)            # Get the length of data\n",
    "    sorted_data = sorted(data)   # Sort data\n",
    "\n",
    "    if count % 2 == 1:                  # Check if even or odd\n",
    "        mid = count // 2                # Find middle data point index\n",
    "        return sorted_data[mid]         # Return median\n",
    "    else:\n",
    "        mid = count // 2                     # Find middle data point index\n",
    "        left = float(sorted_data[mid - 1])   # Get left data point\n",
    "        right = float(sorted_data[mid])      # Get right data point\n",
    "        return (left + right) / 2.0          # Return median\n",
    "\n",
    "def std(data):\n",
    "    count = 0                   # Track sample size\n",
    "    squared_diff = float(0.0)   # Keep running sum of diff^2 (cast to float to prevent type error)\n",
    "    data_mean = mean(data)      # Get the mean\n",
    "    for num in data:                                    # Loop through data set\n",
    "        squared_diff += (data[count] - data_mean) ** 2  # Calculate the squared difference between point and mean\n",
    "        count += 1                                      # Count points\n",
    "    variance = squared_diff / count   # Calculate the variance\n",
    "    return np.sqrt(variance)"
   ],
   "id": "d908fbbc8718ffb4",
   "outputs": [],
   "execution_count": 97
  },
  {
   "metadata": {},
   "cell_type": "markdown",
   "source": [
    "### Read Data Set into Variables\n",
    "- Condensed version of original data set contains 10, 1024 x 1024 images along with their respective tau values."
   ],
   "id": "dd2736a622d4effc"
  },
  {
   "metadata": {
    "ExecuteTime": {
     "end_time": "2025-03-10T21:48:40.757060Z",
     "start_time": "2025-03-10T21:48:40.752833Z"
    }
   },
   "cell_type": "code",
   "source": [
    "# Explicitly open the hdf5 file as read only\n",
    "h5f = h5py.File(\"data/ten_snapshots.hdf5\",\"r\")\n",
    "\n",
    "# Print the key values for reference\n",
    "keys = h5f.keys()\n",
    "print(f\"Keys: {keys}\\n\")\n",
    "\n",
    "# List to hold images and tau values\n",
    "images = h5f[\"ksz_maps\"]\n",
    "tau_values = h5f[\"tau_values\"][:].tolist()\n",
    "print(f\"Images List Shape: {images.shape}\")\n",
    "print(f\"Tau Values List:   {tau_values[:]}\")\n",
    "\n",
    "# Explicitly close hdf5 file\n",
    "h5f.close()"
   ],
   "id": "ff699488d127a3d9",
   "outputs": [
    {
     "name": "stdout",
     "output_type": "stream",
     "text": [
      "Keys: <KeysViewHDF5 ['ksz_maps', 'tau_values']>\n",
      "\n",
      "Images List Shape: (10, 1024, 1024)\n",
      "Tau Values List:   [0.04934259014229634, 0.06491457314571873, 0.05260325395518275, 0.05625422805928001, 0.06860118745208645, 0.05420070520958668, 0.05896275116315667, 0.05879498791108795, 0.055460806198125545, 0.06162772510729051]\n"
     ]
    }
   ],
   "execution_count": 98
  },
  {
   "metadata": {},
   "cell_type": "markdown",
   "source": [
    "### Analyze the Tau Values\n",
    "- Calculate the mean, median and standard deviation of the tau values."
   ],
   "id": "b6e32721a91825a3"
  },
  {
   "metadata": {
    "ExecuteTime": {
     "end_time": "2025-03-10T21:48:40.830825Z",
     "start_time": "2025-03-10T21:48:40.828189Z"
    }
   },
   "cell_type": "code",
   "source": [
    "tau_mean = mean(tau_values)\n",
    "tau_median = median(tau_values)\n",
    "tau_std = std(tau_values)\n",
    "print(f\"Tau Mean:   {tau_mean}\")\n",
    "print(f\"Tau Median: {tau_median}\")\n",
    "print(f\"Tau STD:    {tau_std}\")\n"
   ],
   "id": "107c09f72c3bdde6",
   "outputs": [
    {
     "name": "stdout",
     "output_type": "stream",
     "text": [
      "Tau Mean:   0.05807628083438117\n",
      "Tau Median: 0.05752460798518398\n",
      "Tau STD:    0.005503299679404095\n"
     ]
    }
   ],
   "execution_count": 99
  }
 ],
 "metadata": {
  "kernelspec": {
   "display_name": "Python 3",
   "language": "python",
   "name": "python3"
  },
  "language_info": {
   "codemirror_mode": {
    "name": "ipython",
    "version": 2
   },
   "file_extension": ".py",
   "mimetype": "text/x-python",
   "name": "python",
   "nbconvert_exporter": "python",
   "pygments_lexer": "ipython2",
   "version": "2.7.6"
  }
 },
 "nbformat": 4,
 "nbformat_minor": 5
}
